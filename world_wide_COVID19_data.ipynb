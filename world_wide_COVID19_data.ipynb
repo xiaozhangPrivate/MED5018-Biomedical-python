{
 "cells": [
  {
   "cell_type": "code",
   "execution_count": 5,
   "id": "aaa738a0",
   "metadata": {},
   "outputs": [],
   "source": [
    "import pandas as pd\n",
    "import hvplot.pandas\n",
    "import hvplot as hv\n",
    "import panel as pn"
   ]
  },
  {
   "cell_type": "code",
   "execution_count": 6,
   "id": "d753aa2f",
   "metadata": {},
   "outputs": [],
   "source": [
    "df = pd.read_csv(r'c:\\users\\zhang\\world_wide_COVID_data_daily_data.csv')\n",
    "df = df.sort_values(['year','month','day'])"
   ]
  },
  {
   "cell_type": "code",
   "execution_count": 7,
   "id": "070085b4",
   "metadata": {},
   "outputs": [],
   "source": [
    "continents_options = []\n",
    "for continentExp in df['continentExp']:\n",
    "    if continentExp not in continents_options:\n",
    "        continents_options.append(continentExp)\n",
    "\n",
    "countries_options = []\n",
    "for countriesAndTerritories in df['countriesAndTerritories']:\n",
    "    if countriesAndTerritories not in countries_options:\n",
    "        countries_options.append(countriesAndTerritories)"
   ]
  },
  {
   "cell_type": "code",
   "execution_count": 9,
   "id": "fb8903e3",
   "metadata": {},
   "outputs": [
    {
     "data": {},
     "metadata": {},
     "output_type": "display_data"
    },
    {
     "data": {},
     "metadata": {},
     "output_type": "display_data"
    },
    {
     "data": {
      "application/vnd.holoviews_exec.v0+json": "",
      "text/html": [
       "<div id='1623'>\n",
       "\n",
       "\n",
       "\n",
       "\n",
       "\n",
       "  <div class=\"bk-root\" id=\"a36c0399-5a85-4882-8937-9450030027a4\" data-root-id=\"1623\"></div>\n",
       "</div>\n",
       "<script type=\"application/javascript\">(function(root) {\n",
       "  function embed_document(root) {\n",
       "    var docs_json = {\"3cb2a7db-0fef-4d0c-b9ee-bc3c3a570c9b\":{\"defs\":[{\"extends\":null,\"module\":null,\"name\":\"ReactiveHTML1\",\"overrides\":[],\"properties\":[]},{\"extends\":null,\"module\":null,\"name\":\"FlexBox1\",\"overrides\":[],\"properties\":[{\"default\":\"flex-start\",\"kind\":null,\"name\":\"align_content\"},{\"default\":\"flex-start\",\"kind\":null,\"name\":\"align_items\"},{\"default\":\"row\",\"kind\":null,\"name\":\"flex_direction\"},{\"default\":\"wrap\",\"kind\":null,\"name\":\"flex_wrap\"},{\"default\":\"flex-start\",\"kind\":null,\"name\":\"justify_content\"}]},{\"extends\":null,\"module\":null,\"name\":\"TemplateActions1\",\"overrides\":[],\"properties\":[{\"default\":0,\"kind\":null,\"name\":\"open_modal\"},{\"default\":0,\"kind\":null,\"name\":\"close_modal\"}]},{\"extends\":null,\"module\":null,\"name\":\"MaterialTemplateActions1\",\"overrides\":[],\"properties\":[{\"default\":0,\"kind\":null,\"name\":\"open_modal\"},{\"default\":0,\"kind\":null,\"name\":\"close_modal\"}]}],\"roots\":{\"references\":[{\"attributes\":{\"data\":{\"cases\":[0,0,17,0,15,0,0,0,0,0,0,0,0,0,0,0,4,17,136,19,151,140,97,259,441,665,787,1753,1466,1740,1980],\"countriesAndTerritories\":[\"China\",\"China\",\"China\",\"China\",\"China\",\"China\",\"China\",\"China\",\"China\",\"China\",\"China\",\"China\",\"China\",\"China\",\"China\",\"China\",\"China\",\"China\",\"China\",\"China\",\"China\",\"China\",\"China\",\"China\",\"China\",\"China\",\"China\",\"China\",\"China\",\"China\",\"China\"],\"dateRep\":[\"01/01/2020\",\"02/01/2020\",\"03/01/2020\",\"04/01/2020\",\"05/01/2020\",\"06/01/2020\",\"07/01/2020\",\"08/01/2020\",\"09/01/2020\",\"10/01/2020\",\"11/01/2020\",\"12/01/2020\",\"13/01/2020\",\"14/01/2020\",\"15/01/2020\",\"16/01/2020\",\"17/01/2020\",\"18/01/2020\",\"19/01/2020\",\"20/01/2020\",\"21/01/2020\",\"22/01/2020\",\"23/01/2020\",\"24/01/2020\",\"25/01/2020\",\"26/01/2020\",\"27/01/2020\",\"28/01/2020\",\"29/01/2020\",\"30/01/2020\",\"31/01/2020\"]},\"selected\":{\"id\":\"1670\"},\"selection_policy\":{\"id\":\"1684\"}},\"id\":\"1669\",\"type\":\"ColumnDataSource\"},{\"attributes\":{\"coordinates\":null,\"group\":null,\"items\":[]},\"id\":\"1687\",\"type\":\"Legend\"},{\"attributes\":{\"source\":{\"id\":\"1669\"}},\"id\":\"1676\",\"type\":\"CDSView\"},{\"attributes\":{\"line_alpha\":0.1,\"line_color\":\"#30a2da\",\"line_width\":2,\"x\":{\"field\":\"dateRep\"},\"y\":{\"field\":\"cases\"}},\"id\":\"1673\",\"type\":\"Line\"},{\"attributes\":{\"columns\":[{\"id\":\"1785\"},{\"id\":\"1790\"},{\"id\":\"1795\"},{\"id\":\"1800\"},{\"id\":\"1805\"},{\"id\":\"1810\"},{\"id\":\"1815\"},{\"id\":\"1820\"}],\"reorderable\":false,\"source\":{\"id\":\"1781\"},\"view\":{\"id\":\"1825\"}},\"id\":\"1823\",\"type\":\"DataTable\"},{\"attributes\":{\"children\":[{\"id\":\"1625\"}],\"css_classes\":[\"panel-widget-box\"],\"margin\":[5,5,5,5],\"name\":\"WidgetBox02442\"},\"id\":\"1624\",\"type\":\"Column\"},{\"attributes\":{},\"id\":\"1670\",\"type\":\"Selection\"},{\"attributes\":{},\"id\":\"1826\",\"type\":\"UnionRenderers\"},{\"attributes\":{\"children\":[{\"id\":\"1624\"},{\"id\":\"1630\"},{\"id\":\"1780\"}],\"margin\":[0,0,0,0],\"name\":\"Row02630\"},\"id\":\"1623\",\"type\":\"Row\"},{\"attributes\":{\"end\":2178.0,\"reset_end\":2178.0,\"reset_start\":-198.0,\"start\":-198.0,\"tags\":[[[\"cases\",\"cases\",null]]]},\"id\":\"1632\",\"type\":\"Range1d\"},{\"attributes\":{\"factors\":[\"01/01/2020\",\"02/01/2020\",\"03/01/2020\",\"04/01/2020\",\"05/01/2020\",\"06/01/2020\",\"07/01/2020\",\"08/01/2020\",\"09/01/2020\",\"10/01/2020\",\"11/01/2020\",\"12/01/2020\",\"13/01/2020\",\"14/01/2020\",\"15/01/2020\",\"16/01/2020\",\"17/01/2020\",\"18/01/2020\",\"19/01/2020\",\"20/01/2020\",\"21/01/2020\",\"22/01/2020\",\"23/01/2020\",\"24/01/2020\",\"25/01/2020\",\"26/01/2020\",\"27/01/2020\",\"28/01/2020\",\"29/01/2020\",\"30/01/2020\",\"31/01/2020\"],\"tags\":[[[\"dateRep\",\"dateRep\",null]]]},\"id\":\"1631\",\"type\":\"FactorRange\"},{\"attributes\":{\"client_comm_id\":\"1f3cf37335f64954a7317b5b89c2d905\",\"comm_id\":\"103e41568e004cbbb6e2d4305b937db3\",\"plot_id\":\"1623\"},\"id\":\"1866\",\"type\":\"panel.models.comm_manager.CommManager\"},{\"attributes\":{\"children\":[{\"id\":\"1626\"},{\"id\":\"1627\"},{\"id\":\"1628\"},{\"id\":\"1629\"}],\"margin\":[0,0,0,0],\"min_width\":300,\"name\":\"Column02441\",\"width\":300},\"id\":\"1625\",\"type\":\"Column\"},{\"attributes\":{\"children\":[{\"id\":\"1823\"}],\"margin\":[0,0,0,0],\"name\":\"Row02554\"},\"id\":\"1780\",\"type\":\"Row\"},{\"attributes\":{\"axis_label\":\"Date\",\"coordinates\":null,\"formatter\":{\"id\":\"1664\"},\"group\":null,\"major_label_orientation\":0.7853981633974483,\"major_label_policy\":{\"id\":\"1665\"},\"ticker\":{\"id\":\"1644\"}},\"id\":\"1643\",\"type\":\"CategoricalAxis\"},{\"attributes\":{\"line_color\":\"#30a2da\",\"line_width\":2,\"x\":{\"field\":\"dateRep\"},\"y\":{\"field\":\"cases\"}},\"id\":\"1689\",\"type\":\"Line\"},{\"attributes\":{\"end\":12,\"margin\":[5,10,5,10],\"start\":1,\"title\":\"Months\",\"value\":[1,2]},\"id\":\"1628\",\"type\":\"RangeSlider\"},{\"attributes\":{\"active\":0,\"labels\":[\"cases\",\"deaths\"],\"margin\":[5,10,5,10]},\"id\":\"1629\",\"type\":\"RadioButtonGroup\"},{\"attributes\":{\"line_color\":\"#30a2da\",\"line_width\":2,\"x\":{\"field\":\"dateRep\"},\"y\":{\"field\":\"cases\"}},\"id\":\"1672\",\"type\":\"Line\"},{\"attributes\":{\"children\":[{\"id\":\"1634\"}],\"margin\":[0,0,0,0],\"name\":\"Row02447\"},\"id\":\"1630\",\"type\":\"Row\"},{\"attributes\":{\"below\":[{\"id\":\"1643\"}],\"center\":[{\"id\":\"1645\"},{\"id\":\"1649\"},{\"id\":\"1687\"}],\"height\":400,\"left\":[{\"id\":\"1646\"}],\"margin\":[5,5,5,5],\"min_border_bottom\":10,\"min_border_left\":10,\"min_border_right\":10,\"min_border_top\":10,\"renderers\":[{\"id\":\"1675\"}],\"sizing_mode\":\"fixed\",\"title\":{\"id\":\"1635\"},\"toolbar\":{\"id\":\"1656\"},\"x_range\":{\"id\":\"1631\"},\"x_scale\":{\"id\":\"1639\"},\"y_range\":{\"id\":\"1632\"},\"y_scale\":{\"id\":\"1641\"}},\"id\":\"1634\",\"subtype\":\"Figure\",\"type\":\"Plot\"},{\"attributes\":{\"margin\":[5,10,5,10],\"options\":[\"Asia\",\"Africa\",\"Europe\",\"Oceania\",\"America\",\"Other\"],\"title\":\"Continents\",\"value\":[\"Asia\"]},\"id\":\"1626\",\"type\":\"MultiSelect\"},{\"attributes\":{\"editor\":{\"id\":\"1784\"},\"field\":\"dateRep\",\"formatter\":{\"id\":\"1783\"},\"title\":\"dateRep\"},\"id\":\"1785\",\"type\":\"TableColumn\"},{\"attributes\":{\"margin\":[5,10,5,10],\"options\":[\"Afghanistan\",\"Algeria\",\"Armenia\",\"Australia\",\"Austria\",\"Azerbaijan\",\"Bahrain\",\"Belarus\",\"Belgium\",\"Brazil\",\"Cambodia\",\"Canada\",\"Cases_on_an_international_conveyance_Japan\",\"China\",\"Croatia\",\"Czechia\",\"Denmark\",\"Dominican_Republic\",\"Ecuador\",\"Egypt\",\"Estonia\",\"Finland\",\"France\",\"Georgia\",\"Germany\",\"Greece\",\"Iceland\",\"India\",\"Indonesia\",\"Iran\",\"Iraq\",\"Ireland\",\"Israel\",\"Italy\",\"Japan\",\"Kuwait\",\"Lebanon\",\"Lithuania\",\"Luxembourg\",\"Malaysia\",\"Mexico\",\"Monaco\",\"Nepal\",\"Netherlands\",\"New_Zealand\",\"Nigeria\",\"North_Macedonia\",\"Norway\",\"Oman\",\"Pakistan\",\"Philippines\",\"Qatar\",\"Romania\",\"Russia\",\"San_Marino\",\"Singapore\",\"South_Korea\",\"Spain\",\"Sri_Lanka\",\"Sweden\",\"Switzerland\",\"Taiwan\",\"Thailand\",\"United_Arab_Emirates\",\"United_Kingdom\",\"United_States_of_America\",\"Vietnam\",\"Andorra\",\"Jordan\",\"Latvia\",\"Morocco\",\"Portugal\",\"Saudi_Arabia\",\"Senegal\",\"Sint_Maarten\",\"Tunisia\",\"Argentina\",\"Chile\",\"Poland\",\"Ukraine\",\"Hungary\",\"Liechtenstein\",\"Slovenia\",\"Bhutan\",\"Bosnia_and_Herzegovina\",\"Faroe_Islands\",\"Palestine\",\"South_Africa\",\"Cameroon\",\"Colombia\",\"Costa_Rica\",\"Holy_See\",\"Malta\",\"Peru\",\"Serbia\",\"Slovakia\",\"Togo\",\"Bulgaria\",\"Maldives\",\"Moldova\",\"Paraguay\",\"Albania\",\"Bangladesh\",\"Brunei_Darussalam\",\"Cyprus\",\"Mongolia\",\"Panama\",\"Burkina_Faso\",\"Democratic_Republic_of_the_Congo\",\"Bolivia\",\"Cote_dIvoire\",\"Cuba\",\"Honduras\",\"Jamaica\",\"Turkey\",\"Aruba\",\"Cura\\u00e7ao\",\"Gabon\",\"Ghana\",\"Guyana\",\"Saint_Vincent_and_the_Grenadines\",\"Trinidad_and_Tobago\",\"Ethiopia\",\"Guinea\",\"Kenya\",\"Kosovo\",\"Sudan\",\"Antigua_and_Barbuda\",\"Equatorial_Guinea\",\"Eswatini\",\"Guatemala\",\"Kazakhstan\",\"Mauritania\",\"Namibia\",\"Rwanda\",\"Saint_Lucia\",\"Seychelles\",\"Suriname\",\"Uruguay\",\"Venezuela\",\"Bahamas\",\"Central_African_Republic\",\"Congo\",\"Uzbekistan\",\"Benin\",\"Liberia\",\"Myanmar\",\"Somalia\",\"United_Republic_of_Tanzania\",\"Barbados\",\"Gambia\",\"Montenegro\",\"Djibouti\",\"El_Salvador\",\"French_Polynesia\",\"Guam\",\"Kyrgyzstan\",\"Nicaragua\",\"Zambia\",\"Bermuda\",\"Cayman_Islands\",\"Chad\",\"Fiji\",\"Gibraltar\",\"Greenland\",\"Guernsey\",\"Haiti\",\"Jersey\",\"Mauritius\",\"Cape_Verde\",\"Isle_of_Man\",\"Madagascar\",\"Montserrat\",\"New_Caledonia\",\"Niger\",\"Papua_New_Guinea\",\"Zimbabwe\",\"Angola\",\"Eritrea\",\"Timor_Leste\",\"Uganda\",\"Dominica\",\"Grenada\",\"Mozambique\",\"Syria\",\"Belize\",\"United_States_Virgin_Islands\",\"Laos\",\"Libya\",\"Turks_and_Caicos_islands\",\"Mali\",\"Saint_Kitts_and_Nevis\",\"Anguilla\",\"British_Virgin_Islands\",\"Guinea_Bissau\",\"Puerto_Rico\",\"Northern_Mariana_Islands\",\"Botswana\",\"Burundi\",\"Sierra_Leone\",\"Bonaire, Saint Eustatius and Saba\",\"Malawi\",\"Falkland_Islands_(Malvinas)\",\"South_Sudan\",\"Sao_Tome_and_Principe\",\"Yemen\",\"Western_Sahara\",\"Tajikistan\",\"Comoros\",\"Lesotho\",\"Solomon_Islands\",\"Wallis_and_Futuna\",\"Marshall_Islands\",\"Vanuatu\"],\"title\":\"Countries\",\"value\":[\"China\"]},\"id\":\"1627\",\"type\":\"MultiSelect\"},{\"attributes\":{},\"id\":\"1684\",\"type\":\"UnionRenderers\"},{\"attributes\":{},\"id\":\"1665\",\"type\":\"AllLabels\"},{\"attributes\":{\"line_alpha\":0.2,\"line_color\":\"#30a2da\",\"line_width\":2,\"x\":{\"field\":\"dateRep\"},\"y\":{\"field\":\"cases\"}},\"id\":\"1674\",\"type\":\"Line\"},{\"attributes\":{\"coordinates\":null,\"group\":null,\"text\":\"cases\",\"text_color\":\"black\",\"text_font_size\":\"12pt\"},\"id\":\"1635\",\"type\":\"Title\"},{\"attributes\":{},\"id\":\"1784\",\"type\":\"StringEditor\"},{\"attributes\":{\"axis\":{\"id\":\"1643\"},\"coordinates\":null,\"grid_line_color\":null,\"group\":null,\"ticker\":null},\"id\":\"1645\",\"type\":\"Grid\"},{\"attributes\":{},\"id\":\"1793\",\"type\":\"NumberFormatter\"},{\"attributes\":{},\"id\":\"1789\",\"type\":\"IntEditor\"},{\"attributes\":{},\"id\":\"1651\",\"type\":\"PanTool\"},{\"attributes\":{},\"id\":\"1783\",\"type\":\"StringFormatter\"},{\"attributes\":{},\"id\":\"1641\",\"type\":\"LinearScale\"},{\"attributes\":{},\"id\":\"1788\",\"type\":\"NumberFormatter\"},{\"attributes\":{\"callback\":null,\"renderers\":[{\"id\":\"1675\"}],\"tags\":[\"hv_created\"],\"tooltips\":[[\"countriesAndTerritories\",\"@{countriesAndTerritories}\"],[\"dateRep\",\"@{dateRep}\"],[\"cases\",\"@{cases}\"]]},\"id\":\"1633\",\"type\":\"HoverTool\"},{\"attributes\":{\"source\":{\"id\":\"1781\"}},\"id\":\"1825\",\"type\":\"CDSView\"},{\"attributes\":{},\"id\":\"1798\",\"type\":\"NumberFormatter\"},{\"attributes\":{},\"id\":\"1803\",\"type\":\"StringFormatter\"},{\"attributes\":{},\"id\":\"1782\",\"type\":\"Selection\"},{\"attributes\":{},\"id\":\"1813\",\"type\":\"NumberFormatter\"},{\"attributes\":{},\"id\":\"1647\",\"type\":\"BasicTicker\"},{\"attributes\":{\"editor\":{\"id\":\"1789\"},\"field\":\"day\",\"formatter\":{\"id\":\"1788\"},\"title\":\"day\"},\"id\":\"1790\",\"type\":\"TableColumn\"},{\"attributes\":{},\"id\":\"1644\",\"type\":\"CategoricalTicker\"},{\"attributes\":{},\"id\":\"1794\",\"type\":\"IntEditor\"},{\"attributes\":{},\"id\":\"1652\",\"type\":\"WheelZoomTool\"},{\"attributes\":{},\"id\":\"1818\",\"type\":\"NumberFormatter\"},{\"attributes\":{\"axis_label\":\"cases\",\"coordinates\":null,\"formatter\":{\"id\":\"1667\"},\"group\":null,\"major_label_policy\":{\"id\":\"1668\"},\"ticker\":{\"id\":\"1647\"}},\"id\":\"1646\",\"type\":\"LinearAxis\"},{\"attributes\":{\"editor\":{\"id\":\"1794\"},\"field\":\"month\",\"formatter\":{\"id\":\"1793\"},\"title\":\"month\"},\"id\":\"1795\",\"type\":\"TableColumn\"},{\"attributes\":{},\"id\":\"1799\",\"type\":\"IntEditor\"},{\"attributes\":{\"axis\":{\"id\":\"1646\"},\"coordinates\":null,\"dimension\":1,\"grid_line_color\":null,\"group\":null,\"ticker\":null},\"id\":\"1649\",\"type\":\"Grid\"},{\"attributes\":{\"editor\":{\"id\":\"1799\"},\"field\":\"year\",\"formatter\":{\"id\":\"1798\"},\"title\":\"year\"},\"id\":\"1800\",\"type\":\"TableColumn\"},{\"attributes\":{},\"id\":\"1650\",\"type\":\"SaveTool\"},{\"attributes\":{},\"id\":\"1804\",\"type\":\"StringEditor\"},{\"attributes\":{\"overlay\":{\"id\":\"1655\"}},\"id\":\"1653\",\"type\":\"BoxZoomTool\"},{\"attributes\":{},\"id\":\"1808\",\"type\":\"StringFormatter\"},{\"attributes\":{},\"id\":\"1654\",\"type\":\"ResetTool\"},{\"attributes\":{\"editor\":{\"id\":\"1804\"},\"field\":\"continentExp\",\"formatter\":{\"id\":\"1803\"},\"title\":\"continentExp\"},\"id\":\"1805\",\"type\":\"TableColumn\"},{\"attributes\":{},\"id\":\"1809\",\"type\":\"StringEditor\"},{\"attributes\":{\"editor\":{\"id\":\"1809\"},\"field\":\"countriesAndTerritories\",\"formatter\":{\"id\":\"1808\"},\"title\":\"countriesAndTerritories\"},\"id\":\"1810\",\"type\":\"TableColumn\"},{\"attributes\":{},\"id\":\"1814\",\"type\":\"IntEditor\"},{\"attributes\":{\"bottom_units\":\"screen\",\"coordinates\":null,\"fill_alpha\":0.5,\"fill_color\":\"lightgrey\",\"group\":null,\"left_units\":\"screen\",\"level\":\"overlay\",\"line_alpha\":1.0,\"line_color\":\"black\",\"line_dash\":[4,4],\"line_width\":2,\"right_units\":\"screen\",\"syncable\":false,\"top_units\":\"screen\"},\"id\":\"1655\",\"type\":\"BoxAnnotation\"},{\"attributes\":{\"editor\":{\"id\":\"1814\"},\"field\":\"cases\",\"formatter\":{\"id\":\"1813\"},\"title\":\"cases\"},\"id\":\"1815\",\"type\":\"TableColumn\"},{\"attributes\":{},\"id\":\"1819\",\"type\":\"IntEditor\"},{\"attributes\":{\"tools\":[{\"id\":\"1633\"},{\"id\":\"1650\"},{\"id\":\"1651\"},{\"id\":\"1652\"},{\"id\":\"1653\"},{\"id\":\"1654\"}]},\"id\":\"1656\",\"type\":\"Toolbar\"},{\"attributes\":{\"editor\":{\"id\":\"1819\"},\"field\":\"deaths\",\"formatter\":{\"id\":\"1818\"},\"title\":\"deaths\"},\"id\":\"1820\",\"type\":\"TableColumn\"},{\"attributes\":{\"data\":{\"cases\":[0,0,17,0,15,0,0,0,0,0,0,0,0,0,0,0,4,17,136,19,151,140,97,259,441,665,787,1753,1466,1740,1980],\"continentExp\":[\"Asia\",\"Asia\",\"Asia\",\"Asia\",\"Asia\",\"Asia\",\"Asia\",\"Asia\",\"Asia\",\"Asia\",\"Asia\",\"Asia\",\"Asia\",\"Asia\",\"Asia\",\"Asia\",\"Asia\",\"Asia\",\"Asia\",\"Asia\",\"Asia\",\"Asia\",\"Asia\",\"Asia\",\"Asia\",\"Asia\",\"Asia\",\"Asia\",\"Asia\",\"Asia\",\"Asia\"],\"countriesAndTerritories\":[\"China\",\"China\",\"China\",\"China\",\"China\",\"China\",\"China\",\"China\",\"China\",\"China\",\"China\",\"China\",\"China\",\"China\",\"China\",\"China\",\"China\",\"China\",\"China\",\"China\",\"China\",\"China\",\"China\",\"China\",\"China\",\"China\",\"China\",\"China\",\"China\",\"China\",\"China\"],\"dateRep\":[\"01/01/2020\",\"02/01/2020\",\"03/01/2020\",\"04/01/2020\",\"05/01/2020\",\"06/01/2020\",\"07/01/2020\",\"08/01/2020\",\"09/01/2020\",\"10/01/2020\",\"11/01/2020\",\"12/01/2020\",\"13/01/2020\",\"14/01/2020\",\"15/01/2020\",\"16/01/2020\",\"17/01/2020\",\"18/01/2020\",\"19/01/2020\",\"20/01/2020\",\"21/01/2020\",\"22/01/2020\",\"23/01/2020\",\"24/01/2020\",\"25/01/2020\",\"26/01/2020\",\"27/01/2020\",\"28/01/2020\",\"29/01/2020\",\"30/01/2020\",\"31/01/2020\"],\"day\":[1,2,3,4,5,6,7,8,9,10,11,12,13,14,15,16,17,18,19,20,21,22,23,24,25,26,27,28,29,30,31],\"deaths\":[0,0,0,0,0,0,0,0,0,0,1,0,0,0,1,0,0,0,1,0,3,11,0,9,15,15,25,25,26,38,43],\"month\":[1,1,1,1,1,1,1,1,1,1,1,1,1,1,1,1,1,1,1,1,1,1,1,1,1,1,1,1,1,1,1],\"year\":[2020,2020,2020,2020,2020,2020,2020,2020,2020,2020,2020,2020,2020,2020,2020,2020,2020,2020,2020,2020,2020,2020,2020,2020,2020,2020,2020,2020,2020,2020,2020]},\"selected\":{\"id\":\"1782\"},\"selection_policy\":{\"id\":\"1826\"}},\"id\":\"1781\",\"type\":\"ColumnDataSource\"},{\"attributes\":{},\"id\":\"1667\",\"type\":\"BasicTickFormatter\"},{\"attributes\":{},\"id\":\"1668\",\"type\":\"AllLabels\"},{\"attributes\":{},\"id\":\"1639\",\"type\":\"CategoricalScale\"},{\"attributes\":{\"coordinates\":null,\"data_source\":{\"id\":\"1669\"},\"glyph\":{\"id\":\"1672\"},\"group\":null,\"hover_glyph\":null,\"muted_glyph\":{\"id\":\"1674\"},\"nonselection_glyph\":{\"id\":\"1673\"},\"selection_glyph\":{\"id\":\"1689\"},\"view\":{\"id\":\"1676\"}},\"id\":\"1675\",\"type\":\"GlyphRenderer\"},{\"attributes\":{},\"id\":\"1664\",\"type\":\"CategoricalTickFormatter\"}],\"root_ids\":[\"1623\",\"1866\"]},\"title\":\"Bokeh Application\",\"version\":\"2.4.2\"}};\n",
       "    var render_items = [{\"docid\":\"3cb2a7db-0fef-4d0c-b9ee-bc3c3a570c9b\",\"root_ids\":[\"1623\"],\"roots\":{\"1623\":\"a36c0399-5a85-4882-8937-9450030027a4\"}}];\n",
       "    root.Bokeh.embed.embed_items_notebook(docs_json, render_items);\n",
       "  }\n",
       "  if (root.Bokeh !== undefined && root.Bokeh.Panel !== undefined) {\n",
       "    embed_document(root);\n",
       "  } else {\n",
       "    var attempts = 0;\n",
       "    var timer = setInterval(function(root) {\n",
       "      if (root.Bokeh !== undefined && root.Bokeh.Panel !== undefined) {\n",
       "        clearInterval(timer);\n",
       "        embed_document(root);\n",
       "      } else if (document.readyState == \"complete\") {\n",
       "        attempts++;\n",
       "        if (attempts > 200) {\n",
       "          clearInterval(timer);\n",
       "          console.log(\"Bokeh: ERROR: Unable to run BokehJS code because BokehJS library is missing\");\n",
       "        }\n",
       "      }\n",
       "    }, 25, root)\n",
       "  }\n",
       "})(window);</script>"
      ],
      "text/plain": [
       "Row\n",
       "    [0] WidgetBox\n",
       "        [0] Column(width=300)\n",
       "            [0] MultiSelect(name='Continents', options=['Asia', 'Africa', ...], value=['Asia'])\n",
       "            [1] MultiSelect(name='Countries', options=['Afghanistan', ...], value=['China'])\n",
       "            [2] IntRangeSlider(end=12, name='Months', start=1, value=(1, 2), value_end=2, value_start=1)\n",
       "            [3] RadioButtonGroup(options=['cases', 'deaths'], value='cases')\n",
       "    [1] ParamFunction(function)\n",
       "    [2] ParamFunction(function)"
      ]
     },
     "execution_count": 9,
     "metadata": {
      "application/vnd.holoviews_exec.v0+json": {
       "id": "1623"
      }
     },
     "output_type": "execute_result"
    }
   ],
   "source": [
    "continents = pn.widgets.MultiSelect(name='Continents', value=['Asia'],options= continents_options,)\n",
    "countries = pn.widgets.MultiSelect(name='Countries', value=['China'],options= countries_options)\n",
    "months = pn.widgets.IntRangeSlider(name='Months',start=1, end=12, value=(1, 2), step=1)\n",
    "choices = pn.widgets.RadioButtonGroup(name= '', options=['cases', 'deaths'])\n",
    "\n",
    "@pn.depends(continents,watch = True)\n",
    "def update_countries(continents):\n",
    "    df_continent = df[df['continentExp'].isin(continents)]\n",
    "    countries.options = df_continent['countriesAndTerritories'].unique().tolist()\n",
    "    return countries.options  \n",
    "\n",
    "@pn.depends(continents,countries,months,choices)\n",
    "def make_plot(continents,countries,months,choices):\n",
    "    df_continent = df[df['continentExp'].isin(continents)]\n",
    "    #countries.options = df_continent['countriesAndTerritories'].unique().tolist()\n",
    "    df_country =  df_continent[df_continent['countriesAndTerritories'].isin(countries)]\n",
    "    df_plot = df_country[df_country['month'].isin(range(months[0],months[1]))]\n",
    "    plot = df_plot.hvplot.line(x = 'dateRep', y = choices, xlabel = 'Date',by = 'countriesAndTerritories', title = choices,rot=45,width = 600,height = 400)\n",
    "    \n",
    "    return plot\n",
    "@pn.depends(continents,countries,months)\n",
    "def make_table(continents,countries,months):\n",
    "    df_continent = df[df['continentExp'].isin(continents)]\n",
    "    df_country =  df_continent[df_continent['countriesAndTerritories'].isin(countries)]\n",
    "    df_plot = df_country[df_country['month'].isin(range(months[0],months[1]))]\n",
    "    table = df_plot.hvplot.table(['dateRep','day','month','year','continentExp','countriesAndTerritories','cases','deaths'],width = 600,height = 400)\n",
    "    return table\n",
    "\n",
    "pn.Row(pn.WidgetBox(pn.Column(continents,countries,months,choices,width=300)),make_plot,make_table).servable()"
   ]
  },
  {
   "cell_type": "code",
   "execution_count": null,
   "id": "0327e360",
   "metadata": {},
   "outputs": [],
   "source": []
  }
 ],
 "metadata": {
  "kernelspec": {
   "display_name": "Python [conda env:pyviz-env]",
   "language": "python",
   "name": "conda-env-pyviz-env-py"
  },
  "language_info": {
   "codemirror_mode": {
    "name": "ipython",
    "version": 3
   },
   "file_extension": ".py",
   "mimetype": "text/x-python",
   "name": "python",
   "nbconvert_exporter": "python",
   "pygments_lexer": "ipython3",
   "version": "3.10.0"
  }
 },
 "nbformat": 4,
 "nbformat_minor": 5
}
